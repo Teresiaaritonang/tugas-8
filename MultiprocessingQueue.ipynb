{
  "nbformat": 4,
  "nbformat_minor": 0,
  "metadata": {
    "colab": {
      "provenance": []
    },
    "kernelspec": {
      "name": "python3",
      "display_name": "Python 3"
    },
    "language_info": {
      "name": "python"
    }
  },
  "cells": [
    {
      "cell_type": "code",
      "execution_count": 1,
      "metadata": {
        "colab": {
          "base_uri": "https://localhost:8080/"
        },
        "id": "cN2Bd1KCyl9-",
        "outputId": "01738473-98a0-47e0-8b19-6813d1293c79"
      },
      "outputs": [
        {
          "output_type": "stream",
          "name": "stdout",
          "text": [
            "1\n"
          ]
        }
      ],
      "source": [
        "# How to use multiprocessing.Queue as a FIFO queue:\n",
        "\n",
        "from multiprocessing import Queue\n",
        "\n",
        "customQueue = Queue(maxsize= 3)\n",
        "customQueue.put(1)\n",
        "print(customQueue.get())"
      ]
    }
  ]
}