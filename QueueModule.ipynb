{
  "nbformat": 4,
  "nbformat_minor": 0,
  "metadata": {
    "colab": {
      "provenance": []
    },
    "kernelspec": {
      "name": "python3",
      "display_name": "Python 3"
    },
    "language_info": {
      "name": "python"
    }
  },
  "cells": [
    {
      "cell_type": "code",
      "execution_count": 1,
      "metadata": {
        "colab": {
          "base_uri": "https://localhost:8080/"
        },
        "id": "absboEnCy99M",
        "outputId": "f758cfb9-e00b-4b84-c5fb-c05713ef5a63"
      },
      "outputs": [
        {
          "output_type": "stream",
          "name": "stdout",
          "text": [
            "True\n",
            "True\n",
            "1\n",
            "2\n"
          ]
        }
      ],
      "source": [
        "import queue as q\n",
        "\n",
        "customQueue = q.Queue(maxsize=3)\n",
        "print(customQueue.empty())\n",
        "customQueue.put(1)\n",
        "customQueue.put(2)\n",
        "customQueue.put(3)\n",
        "print(customQueue.full())\n",
        "print(customQueue.get())\n",
        "print(customQueue.qsize())"
      ]
    }
  ]
}