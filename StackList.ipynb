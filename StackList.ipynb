{
  "nbformat": 4,
  "nbformat_minor": 0,
  "metadata": {
    "colab": {
      "provenance": []
    },
    "kernelspec": {
      "name": "python3",
      "display_name": "Python 3"
    },
    "language_info": {
      "name": "python"
    }
  },
  "cells": [
    {
      "cell_type": "code",
      "execution_count": 1,
      "metadata": {
        "colab": {
          "base_uri": "https://localhost:8080/"
        },
        "id": "Kaoo7i_nxVJy",
        "outputId": "3d29ba46-eb53-40aa-91e5-cc1135bc4d01"
      },
      "outputs": [
        {
          "output_type": "stream",
          "name": "stdout",
          "text": [
            "3\n",
            "3\n",
            "2\n",
            "1\n"
          ]
        }
      ],
      "source": [
        "class Stack:\n",
        "    def __init__(self):\n",
        "        self.list = []\n",
        "\n",
        "    def __str__(self):\n",
        "        values = self.list.reverse()\n",
        "        values = [str(x) for x in self.list]\n",
        "        return '\\n'.join(values)\n",
        "\n",
        "    # isEmpty\n",
        "    def isEmpty(self):\n",
        "        if self.list == []:\n",
        "            return True\n",
        "        else:\n",
        "            return False\n",
        "    # push\n",
        "    def push(self, value):\n",
        "        self.list.append(value)\n",
        "        return \"The element has been successfully inserted\"\n",
        "\n",
        "    # pop\n",
        "    def pop(self):\n",
        "        if self.isEmpty():\n",
        "            return \"There is not any element in the stack\"\n",
        "        else:\n",
        "            return self.list.pop()\n",
        "\n",
        "    # peek\n",
        "    def peek(self):\n",
        "        if self.isEmpty():\n",
        "            return \"There is not any element in the stack\"\n",
        "        else:\n",
        "            return self.list[len(self.list)-1]\n",
        "\n",
        "    # delete\n",
        "    def delete(self):\n",
        "        self.list = None\n",
        "\n",
        "\n",
        "\n",
        "\n",
        "customStack = Stack()\n",
        "customStack.push(1)\n",
        "customStack.push(2)\n",
        "customStack.push(3)\n",
        "print(customStack.peek())\n",
        "print(customStack)"
      ]
    }
  ]
}