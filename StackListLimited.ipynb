{
  "nbformat": 4,
  "nbformat_minor": 0,
  "metadata": {
    "colab": {
      "provenance": []
    },
    "kernelspec": {
      "name": "python3",
      "display_name": "Python 3"
    },
    "language_info": {
      "name": "python"
    }
  },
  "cells": [
    {
      "cell_type": "code",
      "execution_count": 1,
      "metadata": {
        "colab": {
          "base_uri": "https://localhost:8080/"
        },
        "id": "Qyc67LqXzvKH",
        "outputId": "7c51bcf1-2d2e-4135-9cf3-7f770229ee12"
      },
      "outputs": [
        {
          "output_type": "stream",
          "name": "stdout",
          "text": [
            "True\n",
            "False\n",
            "3\n",
            "2\n",
            "1\n"
          ]
        }
      ],
      "source": [
        "class Stack:\n",
        "    def __init__(self, maxSize):\n",
        "        self.maxSize = maxSize\n",
        "        self.list = []\n",
        "\n",
        "    def __str__(self):\n",
        "        values = self.list.reverse()\n",
        "        values = [str(x) for x in self.list]\n",
        "        return '\\n'.join(values)\n",
        "\n",
        "    # isEmpty\n",
        "    def isEmpty(self):\n",
        "        if self.list == []:\n",
        "            return True\n",
        "        else:\n",
        "            return False\n",
        "\n",
        "    # isFull\n",
        "    def isFull(self):\n",
        "        if len(self.list) == self.maxSize:\n",
        "            return True\n",
        "        else:\n",
        "            return False\n",
        "\n",
        "    #  Push\n",
        "    def push(self, value):\n",
        "        if self.isFull():\n",
        "            return \"The stack is full\"\n",
        "        else:\n",
        "            self.list.append(value)\n",
        "            return \"The element has been successfully inserted\"\n",
        "    # Pop\n",
        "    def pop(self):\n",
        "        if self.isEmpty():\n",
        "            return \"There is not any element in the stack\"\n",
        "        else:\n",
        "            return self.list.pop()\n",
        "\n",
        "    # peek\n",
        "    def peek(self):\n",
        "        if self.isEmpty():\n",
        "            return \"There is not any element in the stack\"\n",
        "        else:\n",
        "            return self.list[len(self.list)-1]\n",
        "\n",
        "    #  delete\n",
        "    def delete(self):\n",
        "        self.list = None\n",
        "\n",
        "\n",
        "customStack = Stack(4)\n",
        "print(customStack.isEmpty())\n",
        "print(customStack.isFull())\n",
        "customStack.push(1)\n",
        "customStack.push(2)\n",
        "customStack.push(3)\n",
        "print(customStack)"
      ]
    }
  ]
}